{
 "cells": [
  {
   "cell_type": "markdown",
   "id": "17dad3fe-4fea-4233-b9fe-760fa8f40836",
   "metadata": {},
   "source": [
    "Q1:- nums = [2,7,11,15]**Q1.** Given an array of integers nums and an integer target, return indices of the two numbers such that they add up to target.\n",
    "\n",
    "You may assume that each input would have exactly one solution, and you may not use the same element twice.\n",
    "\n",
    "You can return the answer in any order.\n",
    "\n",
    "**Example:**\n",
    "Input: nums = [2,7,11,15], target = 9\n",
    "Output0 [0,1]\n",
    "\n",
    "**Explanation:** Because nums[0] + nums[1] == 9, we return [0, 1][\n",
    "\n",
    "</aside>"
   ]
  },
  {
   "cell_type": "code",
   "execution_count": null,
   "id": "3f3ec8ae-5caf-4b25-acda-84f984a15e83",
   "metadata": {},
   "outputs": [],
   "source": [
    "## C++ code\n",
    "int n = nums.size();\n",
    "        for (int i = 0; i < n - 1; i++) {\n",
    "            int j = i+1;\n",
    "            while(j<n){\n",
    "                if(nums[i] + nums[j] == target){\n",
    "                    return {i, j};\n",
    "                    \n",
    "                }\n",
    "                j++;\n",
    "            }\n",
    "        }\n",
    "        return {};"
   ]
  },
  {
   "cell_type": "markdown",
   "id": "95a46a0a-73f3-4673-a816-74922d79771d",
   "metadata": {},
   "source": [
    "<aside>\n",
    "💡 **Q2.** Given an integer array nums and an integer val, remove all occurrences of val in nums in-place. The order of the elements may be changed. Then return the number of elements in nums which are not equal to val.\n",
    "\n",
    "Consider the number of elements in nums which are not equal to val be k, to get accepted, you need to do the following things:\n",
    "\n",
    "- Change the array nums such that the first k elements of nums contain the elements which are not equal to val. The remaining elements of nums are not important as well as the size of nums.\n",
    "- Return k.\n",
    "\n",
    "**Example :**\n",
    "Input: nums = [3,2,2,3], val = 3\n",
    "Output: 2, nums = [2,2,_*,_*]\n",
    "\n",
    "</aside>"
   ]
  },
  {
   "cell_type": "code",
   "execution_count": null,
   "id": "cdc9393f-7096-44d8-858b-fa54b5f50dd9",
   "metadata": {},
   "outputs": [],
   "source": [
    "## C++ code\n",
    "int n = 0;\n",
    "        for(int i = 0; i < nums.size(); i++){\n",
    "            if(nums[i] != val){\n",
    "                nums[n] = nums[i];\n",
    "                n++;\n",
    "            }\n",
    "\n",
    "        }\n",
    "        return n;"
   ]
  },
  {
   "cell_type": "markdown",
   "id": "82e19af4-442b-4192-b415-cfde72414367",
   "metadata": {},
   "source": [
    "\n",
    "💡 **Q3.** Given a sorted array of distinct integers and a target value, return the index if the target is found. If not, return the index where it would be if it were inserted in order.\n",
    "\n",
    "You must write an algorithm with O(log n) runtime complexity.\n",
    "\n",
    "**Example 1:**\n",
    "Input: nums = [1,3,5,6], target = 5\n",
    "\n",
    "Output: 2\n",
    "\n"
   ]
  },
  {
   "cell_type": "code",
   "execution_count": null,
   "id": "7af8ff3f-0777-4e46-8f94-859667c64126",
   "metadata": {},
   "outputs": [],
   "source": [
    "## C++ code\n",
    "for(int i = 0; i < nums.size(); i++){\n",
    "            if(nums[i] == target){\n",
    "                return i;\n",
    "            }\n",
    "        }\n",
    "        for(int i = 0; i < nums.size(); i++){\n",
    "            if(nums[i] > target){\n",
    "                return i;\n",
    "                break;\n",
    "            }\n",
    "            \n",
    "        }\n",
    "        return nums.size();"
   ]
  },
  {
   "cell_type": "markdown",
   "id": "f8173c5d-d876-4de6-a254-9898ab719802",
   "metadata": {},
   "source": [
    "\n",
    "💡 **Q4.** You are given a large integer represented as an integer array digits, where each digits[i] is the ith digit of the integer. The digits are ordered from most significant to least significant in left-to-right order. The large integer does not contain any leading 0's.\n",
    "\n",
    "Increment the large integer by one and return the resulting array of digits.\n",
    "\n",
    "**Example 1:**\n",
    "Input: digits = [1,2,3]\n",
    "Output: [1,2,4]\n",
    "\n",
    "**Explanation:** The array represents the integer 123.\n",
    "\n",
    "Incrementing by one gives 123 + 1 = 124.\n",
    "Thus, the result should be [1,2,4].\n",
    "\n"
   ]
  },
  {
   "cell_type": "code",
   "execution_count": null,
   "id": "caeeb27d-a952-4917-b5c4-9dac4080e9ce",
   "metadata": {},
   "outputs": [],
   "source": [
    "strings = \"\"\n",
    "for number in digits:\n",
    "    strings = strings + str(number)\n",
    "    temp = str(int(strings) +1)\n",
    "return [int(temp[i]) for i in range(len(temp))]"
   ]
  },
  {
   "cell_type": "markdown",
   "id": "9b4e9071-55a4-4734-ac28-a2fa8a7291d2",
   "metadata": {},
   "source": [
    "**Q5.** You are given two integer arrays nums1 and nums2, sorted in non-decreasing order, and two integers m and n, representing the number of elements in nums1 and nums2 respectively.\n",
    "\n",
    "Merge nums1 and nums2 into a single array sorted in non-decreasing order.\n",
    "\n",
    "The final sorted array should not be returned by the function, but instead be stored inside the array nums1. To accommodate this, nums1 has a length of m + n, where the first m elements denote the elements that should be merged, and the last n elements are set to 0 and should be ignored. nums2 has a length of n.\n",
    "\n",
    "**Example 1:**\n",
    "Input: nums1 = [1,2,3,0,0,0], m = 3, nums2 = [2,5,6], n = 3\n",
    "Output: [1,2,2,3,5,6]\n",
    "\n",
    "**Explanation:** The arrays we are merging are [1,2,3] and [2,5,6].\n",
    "The result of the merge is [1,2,2,3,5,6] with the underlined elements coming from nums1.\n",
    "\n"
   ]
  },
  {
   "cell_type": "code",
   "execution_count": null,
   "id": "6c26a76a-d888-493a-aa45-e0c84eff9d89",
   "metadata": {},
   "outputs": [],
   "source": [
    "for(int i = 0; i<n; i++){\n",
    "    nums1[m+i] = nums2[i];\n",
    "}\n",
    "sort(nums1.begin(), nums1.end());"
   ]
  },
  {
   "cell_type": "markdown",
   "id": "40871116-9722-4ba7-aeca-85eabb83900b",
   "metadata": {},
   "source": [
    "\n",
    "💡 **Q6.** Given an integer array nums, return true if any value appears at least twice in the array, and return false if every element is distinct.\n",
    "\n",
    "**Example 1:**\n",
    "Input: nums = [1,2,3,1]\n",
    "\n",
    "Output: true\n"
   ]
  },
  {
   "cell_type": "code",
   "execution_count": null,
   "id": "b238f382-b43c-4e35-b082-6d2f6694ebb8",
   "metadata": {},
   "outputs": [],
   "source": [
    "## C++ code\n",
    "sort(nums.begin(),nums.end());\n",
    "    bool flag = false;\n",
    "    for(int i =0;i<nums.size()-1;i++){\n",
    "        if(nums[i] == nums[i+1]) return true;\n",
    "    }\n",
    "    return flag;"
   ]
  },
  {
   "cell_type": "markdown",
   "id": "d7078081-3088-418c-a0e6-89937e025c04",
   "metadata": {},
   "source": [
    "\n",
    "💡 **Q7.** Given an integer array nums, move all 0's to the end of it while maintaining the relative order of the nonzero elements.\n",
    "\n",
    "Note that you must do this in-place without making a copy of the array.\n",
    "\n",
    "**Example 1:**\n",
    "Input: nums = [0,1,0,3,12]\n",
    "Output: [1,3,12,0,0]\n",
    "\n"
   ]
  },
  {
   "cell_type": "code",
   "execution_count": null,
   "id": "ae2dbd5e-53cb-4940-8540-b867543a8e40",
   "metadata": {},
   "outputs": [],
   "source": [
    "for i in range(0,len(nums)):\n",
    "    if nums[i]==0:\n",
    "    nums.remove(nums[i])\n",
    "    nums.append(0)\n",
    "    return nums"
   ]
  },
  {
   "cell_type": "markdown",
   "id": "3a7866cf-01ce-442f-821a-b92d0c36a3fe",
   "metadata": {},
   "source": [
    "\n",
    "**Q8.** You have a set of integers s, which originally contains all the numbers from 1 to n. Unfortunately, due to some error, one of the numbers in s got duplicated to another number in the set, which results in repetition of one number and loss of another number.\n",
    "\n",
    "You are given an integer array nums representing the data status of this set after the error.\n",
    "\n",
    "Find the number that occurs twice and the number that is missing and return them in the form of an array.\n",
    "\n",
    "**Example 1:**\n",
    "Input: nums = [1,2,2,4]\n",
    "Output: [2,3]\n",
    "\n"
   ]
  },
  {
   "cell_type": "code",
   "execution_count": null,
   "id": "e6be295e-3728-474a-bad2-a63a1c863078",
   "metadata": {},
   "outputs": [],
   "source": [
    "n = len(nums)\n",
    "x = sum(nums)\n",
    "y = sum(set(nums))\n",
    "z = (n*(n+1))//2\n",
    "        \n",
    "return [x-y,z-y]"
   ]
  }
 ],
 "metadata": {
  "kernelspec": {
   "display_name": "Python 3 (ipykernel)",
   "language": "python",
   "name": "python3"
  },
  "language_info": {
   "codemirror_mode": {
    "name": "ipython",
    "version": 3
   },
   "file_extension": ".py",
   "mimetype": "text/x-python",
   "name": "python",
   "nbconvert_exporter": "python",
   "pygments_lexer": "ipython3",
   "version": "3.10.8"
  }
 },
 "nbformat": 4,
 "nbformat_minor": 5
}
