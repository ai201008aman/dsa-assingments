{
 "cells": [
  {
   "cell_type": "markdown",
   "id": "231a73b5-6aa6-433c-a93d-e0a8ffef22e1",
   "metadata": {},
   "source": [
    "Question 1:\n",
    "Convert 1D Array Into 2D Array\n",
    "\n",
    "You are given a **0-indexed** 1-dimensional (1D) integer array original, and two integers, m and n. You are tasked with creating a 2-dimensional (2D) array with  m rows and n columns using **all** the elements from original.\n",
    "\n",
    "The elements from indices 0 to n - 1 (**inclusive**) of original should form the first row of the constructed 2D array, the elements from indices n to 2 * n - 1 (**inclusive**) should form the second row of the constructed 2D array, and so on.\n",
    "\n",
    "Return *an* m x n *2D array constructed according to the above procedure, or an empty 2D array if it is impossible*."
   ]
  },
  {
   "cell_type": "markdown",
   "id": "f360341f-b367-4c30-b0a8-edb34fba480e",
   "metadata": {},
   "source": [
    "ans = []\n",
    "if len(original) == m*n: \n",
    "    for i in range(0, len(original), n): \n",
    "        ans.append(original[i:i+n])\n",
    "return ans "
   ]
  },
  {
   "cell_type": "markdown",
   "id": "90096801-b352-4fd7-9014-27bb387c08a8",
   "metadata": {},
   "source": [
    "Question 2: You have n coins and you want to build a staircase with these coins. The staircase consists of k rows where the ith row has exactly i coins. The last row of the staircase may be incomplete.\n",
    "\n",
    "Given the integer n, return the number of complete rows of the staircase you will build."
   ]
  },
  {
   "cell_type": "code",
   "execution_count": null,
   "id": "fe22925a-020b-4469-a994-907ec01b498a",
   "metadata": {},
   "outputs": [],
   "source": [
    "return int(sqrt(2 * n + 0.25) - 0.50)"
   ]
  },
  {
   "cell_type": "markdown",
   "id": "8b5a1c08-00f5-4625-8f75-5aba3244422f",
   "metadata": {},
   "source": [
    "Question 3:\n",
    "Given an integer array nums sorted in **non-decreasing** order, return *an array of **the squares of each number** sorted in non-decreasing order*.\n",
    "\n",
    "**Example 1:**\n",
    "\n",
    "**Input:** nums = [-4,-1,0,3,10]\n",
    "\n",
    "**Output:** [0,1,9,16,100]\n",
    "\n",
    "**Explanation:** After squaring, the array becomes [16,1,0,9,100].\n",
    "\n",
    "After sorting, it becomes [0,1,9,16,100]."
   ]
  },
  {
   "cell_type": "code",
   "execution_count": null,
   "id": "d9459dde-08ce-4248-b2ff-03e3ceb2b17c",
   "metadata": {},
   "outputs": [],
   "source": [
    "return int(sqrt(2 * n + 0.25) - 0.50)"
   ]
  },
  {
   "cell_type": "markdown",
   "id": "07177ed5-9605-482e-b030-966e646bed33",
   "metadata": {},
   "source": [
    "Question 4: Given two 0-indexed integer arrays nums1 and nums2, return a list answer of size 2 where:\n",
    "\n",
    "answer[0] is a list of all distinct integers in nums1 which are not present in nums2*.*\n",
    "answer[1] is a list of all distinct integers in nums2 which are not present in nums1.\n",
    "Note that the integers in the lists may be returned in any order.\n",
    "\n",
    "Example 1:\n",
    "\n",
    "Input: nums1 = [1,2,3], nums2 = [2,4,6]\n",
    "\n",
    "Output: [[1,3],[4,6]]\n",
    "\n",
    "Explanation:\n",
    "\n",
    "For nums1, nums1[1] = 2 is present at index 0 of nums2, whereas nums1[0] = 1 and nums1[2] = 3 are not present in nums2. Therefore, answer[0] = [1,3].\n",
    "\n",
    "For nums2, nums2[0] = 2 is present at index 1 of nums1, whereas nums2[1] = 4 and nums2[2] = 6 are not present in nums2. Therefore, answer[1] = [4,6]."
   ]
  },
  {
   "cell_type": "code",
   "execution_count": null,
   "id": "b1be1b08-58fb-4af9-a345-0db00550a016",
   "metadata": {},
   "outputs": [],
   "source": [
    "n1=set(nums1)\n",
    "n2=set(nums2)\n",
    "r1=list(set(x for x in nums1 if x not in n2))\n",
    "r2=list(set(x for x in nums2 if x not in n1))\n",
    "return [r1,r2]"
   ]
  },
  {
   "cell_type": "markdown",
   "id": "5d31039a-7f02-4607-9a46-1af593ac47ca",
   "metadata": {},
   "source": [
    "Question 5\n",
    "Given two integer arrays arr1 and arr2, and the integer d, *return the distance value between the two arrays*.\n",
    "The distance value is defined as the number of elements arr1[i] such that there is not any element arr2[j] where |arr1[i]-arr2[j]| <= d.\n",
    "**Example 1:**\n",
    "**Input:** arr1 = [4,5,8], arr2 = [10,9,1,8], d = 2\n",
    "**Output:** 2\n",
    "**Explanation:**\n",
    "For arr1[0]=4 we have:\n",
    "|4-10|=6 > d=2\n",
    "|4-9|=5 > d=2\n",
    "|4-1|=3 > d=2\n",
    "|4-8|=4 > d=2\n",
    "For arr1[1]=5 we have:\n",
    "|5-10|=5 > d=2\n",
    "|5-9|=4 > d=2\n",
    "|5-1|=4 > d=2\n",
    "|5-8|=3 > d=2\n",
    "For arr1[2]=8 we have:\n",
    "**|8-10|=2 <= d=2**\n",
    "**|8-9|=1 <= d=2**\n",
    "|8-1|=7 > d=2\n",
    "**|8-8|=0 <= d=2**\n"
   ]
  },
  {
   "cell_type": "code",
   "execution_count": null,
   "id": "ec57e32b-aa24-4deb-acc4-98c34ff1a062",
   "metadata": {},
   "outputs": [],
   "source": [
    "count=0\n",
    "        for i in arr1:\n",
    "            for j in arr2:\n",
    "                if abs(i-j)<=d:\n",
    "                    count+=1\n",
    "                    break\n",
    "        return len(arr1)-count"
   ]
  },
  {
   "cell_type": "markdown",
   "id": "f31df5c5-b6a4-45a2-828f-d8b714b893e7",
   "metadata": {},
   "source": [
    "Question 6:\n",
    "Given an integer array nums of length n where all the integers of nums are in the range [1, n] and each integer appears **once** or **twice**, return *an array of all the integers that appears **twice***.\n",
    "\n",
    "You must write an algorithm that runs in O(n) time and uses only constant extra space.\n",
    "\n",
    "**Example 1:**\n",
    "\n",
    "**Input:** nums = [4,3,2,7,8,2,3,1]\n",
    "\n",
    "**Output:**\n",
    "\n",
    "[2,3]"
   ]
  },
  {
   "cell_type": "code",
   "execution_count": null,
   "id": "69073e77-c5df-4bbc-b84b-0a2121057d90",
   "metadata": {},
   "outputs": [],
   "source": [
    "val={}\n",
    "for i in nums:\n",
    "    if i in val:\n",
    "        val[i]+=1\n",
    "    else:\n",
    "        val[i]=1\n",
    "keys=[key for key,values in val.items() if values==2]\n",
    "return keys"
   ]
  },
  {
   "cell_type": "markdown",
   "id": "7ea5defa-31b4-4831-94bd-e5aef9e82693",
   "metadata": {},
   "source": [
    "Question 7:\n",
    "Suppose an array of length n sorted in ascending order is **rotated** between 1 and n times. For example, the array nums = [0,1,2,4,5,6,7] might become:\n",
    "\n",
    "- [4,5,6,7,0,1,2] if it was rotated 4 times.\n",
    "- [0,1,2,4,5,6,7] if it was rotated 7 times.\n",
    "\n",
    "Notice that **rotating** an array [a[0], a[1], a[2], ..., a[n-1]] 1 time results in the array [a[n-1], a[0], a[1], a[2], ..., a[n-2]].\n",
    "\n",
    "Given the sorted rotated array nums of **unique** elements, return *the minimum element of this array*.\n",
    "\n",
    "You must write an algorithm that runs in O(log n) time.\n",
    "\n",
    "**Example 1:**\n",
    "\n",
    "**Input:** nums = [3,4,5,1,2]\n",
    "\n",
    "**Output:** 1\n",
    "\n",
    "**Explanation:**\n",
    "\n",
    "The original array was [1,2,3,4,5] rotated 3 times."
   ]
  },
  {
   "cell_type": "code",
   "execution_count": null,
   "id": "15a661c9-c00a-46d5-9292-e9ecffc420d6",
   "metadata": {},
   "outputs": [],
   "source": [
    "low=0\n",
    "high=len(nums)-1\n",
    "res=nums[0]\n",
    "while low<=high:\n",
    "    if nums[low]<nums[high]:\n",
    "        res=min(res,nums[low])\n",
    "        break\n",
    "    mid=(low+high)//2\n",
    "    res=min(res,nums[mid])\n",
    "    if nums[mid]>=nums[low]:\n",
    "        low=mid+1\n",
    "    else:\n",
    "        high=mid-1\n",
    "return res"
   ]
  },
  {
   "cell_type": "markdown",
   "id": "5faebf82-5cd9-43f1-b64c-db752b5609c9",
   "metadata": {},
   "source": [
    "Question 8:\n",
    "An integer array original is transformed into a **doubled** array changed by appending **twice the value** of every element in original, and then randomly **shuffling** the resulting array.\n",
    "\n",
    "Given an array changed, return original *if* changed *is a **doubled** array. If* changed *is not a **doubled** array, return an empty array. The elements in* original *may be returned in **any** order*.\n",
    "\n",
    "**Example 1:**\n",
    "\n",
    "**Input:** changed = [1,3,4,2,6,8]\n",
    "\n",
    "**Output:** [1,3,4]\n",
    "\n",
    "**Explanation:** One possible original array could be [1,3,4]:\n",
    "\n",
    "- Twice the value of 1 is 1 * 2 = 2.\n",
    "- Twice the value of 3 is 3 * 2 = 6.\n",
    "- Twice the value of 4 is 4 * 2 = 8.\n",
    "\n",
    "Other original arrays could be [4,3,1] or [3,1,4]."
   ]
  },
  {
   "cell_type": "code",
   "execution_count": null,
   "id": "911599b3-a966-4ee6-bdc9-5d7e5fbf4c28",
   "metadata": {},
   "outputs": [],
   "source": [
    "if len(changed) % 2 == 1:\n",
    "    return []\n",
    "data = Counter(changed)\n",
    "result = []\n",
    "for k in sorted(data):\n",
    "    if data[k] < 0:\n",
    "        return []\n",
    "    value = k * 2\n",
    "    while data[k] > 0:\n",
    "        if data[value] == 0:\n",
    "            return []\n",
    "        result.append(k)\n",
    "        data[k] -= 1\n",
    "        data[value] -= 1\n",
    "return result"
   ]
  }
 ],
 "metadata": {
  "kernelspec": {
   "display_name": "Python 3 (ipykernel)",
   "language": "python",
   "name": "python3"
  },
  "language_info": {
   "codemirror_mode": {
    "name": "ipython",
    "version": 3
   },
   "file_extension": ".py",
   "mimetype": "text/x-python",
   "name": "python",
   "nbconvert_exporter": "python",
   "pygments_lexer": "ipython3",
   "version": "3.10.8"
  }
 },
 "nbformat": 4,
 "nbformat_minor": 5
}
