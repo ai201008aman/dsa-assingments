{
 "cells": [
  {
   "cell_type": "markdown",
   "id": "e4df389e-8c74-4218-94ee-f2619f146ace",
   "metadata": {},
   "source": [
    "Q1:- Given an integer array nums of 2n integers, group these integers into n pairs (a1, b1), (a2, b2),..., (an, bn) such that the sum of min(ai, bi) for all i is maximized. Return the maximized sum.\n",
    "\n",
    "**Example 1:**\n",
    "Input: nums = [1,4,3,2]\n",
    "Output: 4\n",
    "\n",
    "**Explanation:** All possible pairings (ignoring the ordering of elements) are:\n",
    "\n",
    "1. (1, 4), (2, 3) -> min(1, 4) + min(2, 3) = 1 + 2 = 3\n",
    "2. (1, 3), (2, 4) -> min(1, 3) + min(2, 4) = 1 + 2 = 3\n",
    "3. (1, 2), (3, 4) -> min(1, 2) + min(3, 4) = 1 + 3 = 4\n",
    "So the maximum possible sum is 4\n"
   ]
  },
  {
   "cell_type": "code",
   "execution_count": null,
   "id": "1ce78c39-6873-41eb-98a5-1b920dec8f3b",
   "metadata": {},
   "outputs": [],
   "source": [
    "class Solution:\n",
    "def arrayPairSum(self, nums: List[int]) -> int:\n",
    "        return sum(sorted(nums)[::2])"
   ]
  },
  {
   "cell_type": "markdown",
   "id": "2e0e7009-4d17-403f-a041-48dd2209af23",
   "metadata": {},
   "source": [
    "Question 2\n",
    "Alice has n candies, where the ith candy is of type candyType[i]. Alice noticed that she started to gain weight, so she visited a doctor. \n",
    "\n",
    "The doctor advised Alice to only eat n / 2 of the candies she has (n is always even). Alice likes her candies very much, and she wants to eat the maximum number of different types of candies while still following the doctor's advice. \n",
    "\n",
    "Given the integer array candyType of length n, return the maximum number of different types of candies she can eat if she only eats n / 2 of them."
   ]
  },
  {
   "cell_type": "code",
   "execution_count": null,
   "id": "17201deb-35de-4ce3-b210-06a93fe8b1be",
   "metadata": {},
   "outputs": [],
   "source": [
    "class Solution:\n",
    "    def distributeCandies(self, candyType: List[int]) -> int:\n",
    "        return min(len(set(candyType)),len(candyType)//2)"
   ]
  },
  {
   "cell_type": "markdown",
   "id": "22cd89e7-2f86-49cf-a039-c825c11f844c",
   "metadata": {},
   "source": [
    "Question 3\n",
    "We define a harmonious array as an array where the difference between its maximum value\n",
    "and its minimum value is exactly 1.\n",
    "\n",
    "Given an integer array nums, return the length of its longest harmonious subsequence\n",
    "among all its possible subsequences.\n",
    "\n",
    "A subsequence of an array is a sequence that can be derived from the array by deleting some or no elements without changing the order of the remaining elements.\n"
   ]
  },
  {
   "cell_type": "code",
   "execution_count": null,
   "id": "bc33f3a5-304f-437e-8f0c-bbf80f0fe5dd",
   "metadata": {},
   "outputs": [],
   "source": [
    "class Solution:\n",
    "    def findLHS(self, nums: List[int]) -> int:\n",
    "        freq = Counter(nums)\n",
    "        max_length = 0\n",
    "        \n",
    "        for key in freq:\n",
    "            if key + 1 in freq:\n",
    "                max_length = max(max_length, freq[key] + freq[key+1])\n",
    "                \n",
    "        return max_length"
   ]
  },
  {
   "cell_type": "markdown",
   "id": "59ed4eb9-d417-4e78-9778-f928e2dd93c4",
   "metadata": {},
   "source": [
    "Question 4\n",
    "You have a long flowerbed in which some of the plots are planted, and some are not.\n",
    "However, flowers cannot be planted in adjacent plots.\n",
    "Given an integer array flowerbed containing 0's and 1's, where 0 means empty and 1 means not empty, and an integer n, return true if n new flowers can be planted in the flowerbed without violating the no-adjacent-flowers rule and false otherwise.\n"
   ]
  },
  {
   "cell_type": "code",
   "execution_count": null,
   "id": "752cc7de-5fef-4a57-829a-8e4724e70ac4",
   "metadata": {},
   "outputs": [],
   "source": [
    "class Solution:\n",
    "    def canPlaceFlowers(self, flowerbed: List[int], n: int) -> bool:\n",
    "        if n == 0:\n",
    "            return True\n",
    "        for i in range(len(flowerbed)):\n",
    "            if flowerbed[i] == 0 and (i == 0 or flowerbed[i-1] == 0) and (i == len(flowerbed)-1 or flowerbed[i+1] == 0):\n",
    "                flowerbed[i] = 1\n",
    "                n -= 1\n",
    "                if n == 0:\n",
    "                    return True\n",
    "        return False"
   ]
  },
  {
   "cell_type": "markdown",
   "id": "15cd17c2-a77c-4141-b18a-485140e7f11f",
   "metadata": {},
   "source": [
    "Question 5\n",
    "Given an integer array nums, find three numbers whose product is maximum and return the maximum product."
   ]
  },
  {
   "cell_type": "code",
   "execution_count": null,
   "id": "8653f99a-cc44-4767-b4b9-46eeca4d663a",
   "metadata": {},
   "outputs": [],
   "source": [
    "class Solution:\n",
    "    def maximumProduct(self, nums: List[int]) -> int:\n",
    "        if len(nums) == 3:\n",
    "            return nums[0] * nums[1] * nums[2]\n",
    "        max1 = max2 = max3 = -1000 \n",
    "        min1 = min2 = 1000\n",
    "        for i in nums:\n",
    "            if i > max1:\n",
    "                max3 = max2\n",
    "                max2 = max1\n",
    "                max1 = i\n",
    "            elif i > max2:\n",
    "                max3 = max2\n",
    "                max2 = i\n",
    "            elif i > max3:\n",
    "                max3 = i\n",
    "            if i < min1:\n",
    "                min2 = min1\n",
    "                min1 = i\n",
    "            elif i < min2:\n",
    "                min2 = i\n",
    "        return max(max1 * max2 * max3, min1 * min2 * max1)"
   ]
  },
  {
   "cell_type": "markdown",
   "id": "9b1a2db8-d9fe-40f4-b840-d38a62478e8a",
   "metadata": {},
   "source": [
    "Question 6\n",
    "Given an array of integers nums which is sorted in ascending order, and an integer target,\n",
    "write a function to search target in nums. If target exists, then return its index. Otherwise,\n",
    "return -1.\n",
    "\n",
    "You must write an algorithm with O(log n) runtime complexity.\n",
    "\n",
    "Input: nums = [-1,0,3,5,9,12], target = 9\n",
    "Output: 4\n",
    "\n",
    "Explanation: 9 exists in nums and its index is 4"
   ]
  },
  {
   "cell_type": "code",
   "execution_count": null,
   "id": "581f3ef3-62a4-4121-a755-5b931389edc0",
   "metadata": {},
   "outputs": [],
   "source": [
    "class Solution:\n",
    "    def search(self, nums: List[int], target: int) -> int:\n",
    "        leng = len(nums)\n",
    "        hi = leng\n",
    "        lo = 0\n",
    "        mid = (lo+hi)//2\n",
    "        while lo < hi:\n",
    "            curr = nums[mid]\n",
    "            if curr == target:\n",
    "                return mid\n",
    "            elif curr < target:\n",
    "                lo = mid\n",
    "                mid = (lo+hi)//2\n",
    "                if lo == mid:\n",
    "                    lo+=1\n",
    "            else:\n",
    "                hi = mid\n",
    "                mid = (lo+hi)//2\n",
    "                if hi == mid:\n",
    "                    hi-=1\n",
    "        return -1"
   ]
  },
  {
   "cell_type": "markdown",
   "id": "20470a81-96ea-4517-a340-693536ec6072",
   "metadata": {},
   "source": [
    "Question 7\n",
    "An array is monotonic if it is either monotone increasing or monotone decreasing.\n",
    "\n",
    "An array nums is monotone increasing if for all i <= j, nums[i] <= nums[j]. An array nums is\n",
    "monotone decreasing if for all i <= j, nums[i] >= nums[j].\n",
    "\n",
    "Given an integer array nums, return true if the given array is monotonic, or false otherwise.\n",
    "\n",
    "Example 1:\n",
    "Input: nums = [1,2,2,3]\n",
    "Output: true"
   ]
  },
  {
   "cell_type": "code",
   "execution_count": null,
   "id": "8d26628b-c876-4e35-a511-fdfac2c97760",
   "metadata": {},
   "outputs": [],
   "source": [
    "class Solution:\n",
    "    def isMonotonic(self, nums: List[int]) -> bool:\n",
    "        if nums[-1]> nums[0]:\n",
    "            for i in range(len(nums)-1):\n",
    "                if nums[i+1] < nums[i]:\n",
    "                    return False\n",
    "            return True\n",
    "        elif nums[-1]<nums[0]:\n",
    "            for i in range(len(nums)-1):\n",
    "                if nums[i+1] > nums[i]:\n",
    "                    return False\n",
    "            return True\n",
    "        else:\n",
    "            for i in range(len(nums)-1):\n",
    "                if nums[i+1] != nums[i]:\n",
    "                    return False\n",
    "            return True"
   ]
  },
  {
   "cell_type": "markdown",
   "id": "3a9f87c5-3f89-4281-bb1c-3218dfbec54c",
   "metadata": {},
   "source": [
    "Question 8\n",
    "You are given an integer array nums and an integer k.\n",
    "\n",
    "In one operation, you can choose any index i where 0 <= i < nums.length and change nums[i] to nums[i] + x where x is an integer from the range [-k, k]. You can apply this operation at most once for each index i.\n",
    "\n",
    "The score of nums is the difference between the maximum and minimum elements in nums.\n",
    "\n",
    "Return the minimum score of nums after applying the mentioned operation at most once for each index in it.\n",
    "\n",
    "Example 1:\n",
    "Input: nums = [1], k = 0\n",
    "Output: 0\n",
    "\n",
    "Explanation: The score is max(nums) - min(nums) = 1 - 1 = 0."
   ]
  },
  {
   "cell_type": "code",
   "execution_count": null,
   "id": "4b411abc-ac69-47d1-b51c-8686b0e70fbf",
   "metadata": {},
   "outputs": [],
   "source": [
    "class Solution:\n",
    "    def smallestRangeI(self, nums: List[int], k: int) -> int:\n",
    "        x=max(nums)\n",
    "        y=min(nums)\n",
    "        return max(0,(x-k)-(y+k))"
   ]
  }
 ],
 "metadata": {
  "kernelspec": {
   "display_name": "Python 3 (ipykernel)",
   "language": "python",
   "name": "python3"
  },
  "language_info": {
   "codemirror_mode": {
    "name": "ipython",
    "version": 3
   },
   "file_extension": ".py",
   "mimetype": "text/x-python",
   "name": "python",
   "nbconvert_exporter": "python",
   "pygments_lexer": "ipython3",
   "version": "3.10.8"
  }
 },
 "nbformat": 4,
 "nbformat_minor": 5
}
