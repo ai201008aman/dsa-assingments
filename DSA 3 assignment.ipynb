{
 "cells": [
  {
   "cell_type": "markdown",
   "id": "2930c5de-4066-469f-98c9-e93403b66454",
   "metadata": {},
   "source": [
    "Question 1: Given an integer array nums of length n and an integer target, find three integers\n",
    "in nums such that the sum is closest to the target.\n",
    "Return the sum of the three integers.\n",
    "\n",
    "You may assume that each input would have exactly one solution.\n",
    "\n",
    "Example 1:\n",
    "Input: nums = [-1,2,1,-4], target = 1\n",
    "Output: 2\n",
    "\n",
    "Explanation: The sum that is closest to the target is 2. (-1 + 2 + 1 = 2)."
   ]
  },
  {
   "cell_type": "code",
   "execution_count": null,
   "id": "111e01e9-0d17-4b95-8413-7e42000ea749",
   "metadata": {},
   "outputs": [],
   "source": [
    "a = float('inf')\n",
    "nums.sort()\n",
    "for i in range(len(nums) - 2):\n",
    "    j, k = i + 1, len(nums) - 1\n",
    "    while j < k:\n",
    "        sum = nums[i] + nums[j] + nums[k]\n",
    "        print(sum)\n",
    "        if sum < target:\n",
    "            j += 1\n",
    "        else:\n",
    "            k -=1\n",
    "        if abs(sum - target) < abs(a - target):\n",
    "            a = sum\n",
    "    return a"
   ]
  },
  {
   "cell_type": "markdown",
   "id": "b6e62431-71c0-40ef-b801-4bca08982728",
   "metadata": {},
   "source": [
    "Question 2\n",
    "Given an array nums of n integers, return an array of all the unique quadruplets\n",
    "[nums[a], nums[b], nums[c], nums[d]] such that:\n",
    "           ● 0 <= a, b, c, d < n\n",
    "           ● a, b, c, and d are distinct.\n",
    "           ● nums[a] + nums[b] + nums[c] + nums[d] == target\n",
    "\n",
    "You may return the answer in any order.\n",
    "\n",
    "Example 1:\n",
    "Input: nums = [1,0,-1,0,-2,2], target = 0\n",
    "Output: [[-2,-1,1,2],[-2,0,0,2],[-1,0,0,1]]"
   ]
  },
  {
   "cell_type": "code",
   "execution_count": null,
   "id": "24dbb1c8-f86a-41ad-a9f7-c0884763c286",
   "metadata": {},
   "outputs": [],
   "source": [
    "        n = len(nums)\n",
    "        ans = set()\n",
    "        hmap = defaultdict(int)\n",
    "        for i in nums:\n",
    "            hmap[i] += 1\n",
    "        \n",
    "        for i in range(n-3):\n",
    "            hmap[nums[i]] -= 1\n",
    "            for j in range(i+1, n-2):\n",
    "                hmap[nums[j]] -= 1\n",
    "                for k in range(j+1, n-1):\n",
    "                    hmap[nums[k]] -= 1\n",
    "                    rem = target-(nums[i] + nums[j] + nums[k])\n",
    "                    if rem in hmap and hmap[rem] > 0:\n",
    "                        ans.add(tuple(sorted((nums[i], nums[j], nums[k], rem))))\n",
    "                    hmap[nums[k]] += 1\n",
    "                hmap[nums[j]] += 1\n",
    "            hmap[nums[i]] += 1\n",
    "        \n",
    "        res = []\n",
    "        for i in ans:\n",
    "            res += list(i),\n",
    "        return res"
   ]
  },
  {
   "cell_type": "markdown",
   "id": "e1c5f18d-6084-41df-bf18-ab11fe2a91e7",
   "metadata": {},
   "source": [
    "Question 3:\n",
    "A permutation of an array of integers is an arrangement of its members into a\n",
    "sequence or linear order.\n",
    "\n",
    "For example, for arr = [1,2,3], the following are all the permutations of arr:\n",
    "[1,2,3], [1,3,2], [2, 1, 3], [2, 3, 1], [3,1,2], [3,2,1].\n",
    "\n",
    "The next permutation of an array of integers is the next lexicographically greater\n",
    "permutation of its integer. More formally, if all the permutations of the array are\n",
    "sorted in one container according to their lexicographical order, then the next\n",
    "permutation of that array is the permutation that follows it in the sorted container.\n",
    "\n",
    "If such an arrangement is not possible, the array must be rearranged as the\n",
    "lowest possible order (i.e., sorted in ascending order).\n",
    "\n",
    "● For example, the next permutation of arr = [1,2,3] is [1,3,2].\n",
    "● Similarly, the next permutation of arr = [2,3,1] is [3,1,2].\n",
    "● While the next permutation of arr = [3,2,1] is [1,2,3] because [3,2,1] does not\n",
    "have a lexicographical larger rearrangement.\n",
    "\n",
    "Given an array of integers nums, find the next permutation of nums.\n",
    "The replacement must be in place and use only constant extra memory.\n",
    "\n",
    "**Example 1:**\n",
    "Input: nums = [1,2,3]\n",
    "Output: [1,3,2]"
   ]
  },
  {
   "cell_type": "code",
   "execution_count": null,
   "id": "7ebc7f8d-a2a7-466e-bf08-3c4eab81d77d",
   "metadata": {},
   "outputs": [],
   "source": [
    "if nums == sorted(nums, key=lambda x: -x):\n",
    "            nums.sort()\n",
    "            return\n",
    "\n",
    "        for i in range(len(nums) - 1, 0, -1):\n",
    "            if nums[i - 1] < nums[i]:\n",
    "                # Find the first value that is less than the current value\n",
    "                min_idx, min_val = len(nums), float('inf')\n",
    "                for j in range(len(nums) - 1, i - 1, -1):\n",
    "                    if nums[j] > nums[i - 1] and nums[j] < min_val:\n",
    "                        min_val = nums[j]\n",
    "                        min_idx = j\n",
    "                nums[i - 1], nums[min_idx] = nums[min_idx], nums[i - 1]\n",
    "\n",
    "                # Bubble Sort\n",
    "                while True:\n",
    "                    swapped = False\n",
    "                    for k in range(i, len(nums) - 1):\n",
    "                        if nums[k] > nums[k + 1]:\n",
    "                            swapped = True\n",
    "                            nums[k], nums[k + 1] = nums[k + 1], nums[k]\n",
    "                    if swapped == False: break\n",
    "                    \n",
    "                return"
   ]
  },
  {
   "cell_type": "markdown",
   "id": "fa698ac1-83d4-4376-a644-673f9ef08b46",
   "metadata": {},
   "source": [
    "Question 4\n",
    "Given a sorted array of distinct integers and a target value, return the index if the\n",
    "target is found. If not, return the index where it would be if it were inserted in\n",
    "order.\n",
    "\n",
    "You must write an algorithm with O(log n) runtime complexity.\n",
    "\n",
    "Example 1:\n",
    "Input: nums = [1,3,5,6], target = 5\n",
    "Output: 2"
   ]
  },
  {
   "cell_type": "code",
   "execution_count": null,
   "id": "68c3e1e0-3875-4b1d-b62a-ab7ad2e81332",
   "metadata": {},
   "outputs": [],
   "source": [
    "left,right=0,len(nums)-1\n",
    "        while left<=right:\n",
    "            mid=(left+right)//2\n",
    "            if nums[mid]==target:\n",
    "                return mid\n",
    "            elif nums[mid]<target:\n",
    "                left=mid+1\n",
    "            else:\n",
    "                right=mid-1\n",
    "        return left"
   ]
  },
  {
   "cell_type": "markdown",
   "id": "a57cf78e-4738-4b90-9ad7-ff51505923b3",
   "metadata": {},
   "source": [
    "Question 5:\n",
    "You are given a large integer represented as an integer array digits, where each\n",
    "digits[i] is the ith digit of the integer. The digits are ordered from most significant\n",
    "to least significant in left-to-right order. The large integer does not contain any\n",
    "leading 0's.\n",
    "\n",
    "Increment the large integer by one and return the resulting array of digits.\n",
    "\n",
    "**Example 1:**\n",
    "Input: digits = [1,2,3]\n",
    "Output: [1,2,4]\n",
    "\n",
    "**Explanation:** The array represents the integer 123.\n",
    "Incrementing by one gives 123 + 1 = 124.\n",
    "Thus, the result should be [1,2,4].\n",
    "\n"
   ]
  },
  {
   "cell_type": "code",
   "execution_count": null,
   "id": "aea1d4c5-4828-4106-b431-a0e3fdb17f60",
   "metadata": {},
   "outputs": [],
   "source": [
    "strings = \"\"\n",
    "        for number in digits:\n",
    "            strings += str(number)\n",
    "\n",
    "        temp = str(int(strings) +1)\n",
    "\n",
    "        return [int(temp[i]) for i in range(len(temp))]"
   ]
  },
  {
   "cell_type": "markdown",
   "id": "1d20afb5-20e0-4d12-bc06-a11d14619169",
   "metadata": {},
   "source": [
    "Question 6:\n",
    "Given a non-empty array of integers nums, every element appears twice except\n",
    "for one. Find that single one.\n",
    "\n",
    "You must implement a solution with a linear runtime complexity and use only\n",
    "constant extra space.\n",
    "\n",
    "Example 1:\n",
    "Input: nums = [2,2,1]\n",
    "Output: 1"
   ]
  },
  {
   "cell_type": "code",
   "execution_count": null,
   "id": "239e42c9-0172-4593-8fab-17cf2d2a383d",
   "metadata": {},
   "outputs": [],
   "source": [
    "return reduce(lambda total, x: total ^ x, nums)"
   ]
  },
  {
   "cell_type": "markdown",
   "id": "7a95cb65-d737-4d9b-a494-98e5b8568f00",
   "metadata": {},
   "source": [
    "Question 7\n",
    "You are given an inclusive range [lower, upper] and a sorted unique integer array\n",
    "nums, where all elements are within the inclusive range.\n",
    "\n",
    "A number x is considered missing if x is in the range [lower, upper] and x is not in\n",
    "nums.\n",
    "\n",
    "Return the shortest sorted list of ranges that exactly covers all the missing\n",
    "numbers. That is, no element of nums is included in any of the ranges, and each\n",
    "missing number is covered by one of the ranges.\n",
    "\n",
    "Example 1:\n",
    "Input: nums = [0,1,3,50,75], lower = 0, upper = 99\n",
    "Output: [[2,2],[4,49],[51,74],[76,99]]\n",
    "\n",
    "Explanation: The ranges are:\n",
    "[2,2]\n",
    "[4,49]\n",
    "[51,74]\n",
    "[76,99]"
   ]
  },
  {
   "cell_type": "code",
   "execution_count": null,
   "id": "85c6c441-ea23-4c39-9ee5-6c7d62c21afb",
   "metadata": {},
   "outputs": [],
   "source": [
    "def f(a, b):\n",
    "        return str(a) if a == b else f'{a}->{b}'\n",
    "\n",
    "        n = len(nums)\n",
    "        if n == 0:\n",
    "            return [f(lower, upper)]\n",
    "        ans = []\n",
    "        if nums[0] > lower:\n",
    "            ans.append(f(lower, nums[0] - 1))\n",
    "        for a, b in pairwise(nums):\n",
    "            if b - a > 1:\n",
    "                ans.append(f(a + 1, b - 1))\n",
    "        if nums[-1] < upper:\n",
    "            ans.append(f(nums[-1] + 1, upper))\n",
    "        return ans"
   ]
  },
  {
   "cell_type": "markdown",
   "id": "8d734ebb-7816-4c62-bcf1-0e96ff2a3b2b",
   "metadata": {},
   "source": [
    "Question 8\n",
    "Given an array of meeting time intervals where intervals[i] = [starti, endi],\n",
    "determine if a person could attend all meetings.\n",
    "\n",
    "Example 1:\n",
    "Input: intervals = [[0,30],[5,10],[15,20]]\n",
    "Output: false"
   ]
  },
  {
   "cell_type": "code",
   "execution_count": null,
   "id": "c3eff9fc-ce21-4891-8342-dc14bbf08444",
   "metadata": {},
   "outputs": [],
   "source": [
    "intervals.sort(key=lambda x: (x[1]))\n",
    "\n",
    "        n = len(intervals)\n",
    "        ans = 0\n",
    "        c = intervals[0][1]\n",
    "\n",
    "        for i in range(n - 1):\n",
    "            if c > intervals[i + 1][0]:\n",
    "                ans += 1\n",
    "            else:\n",
    "                c = intervals[i + 1][1]\n",
    "        return ans"
   ]
  }
 ],
 "metadata": {
  "kernelspec": {
   "display_name": "Python 3 (ipykernel)",
   "language": "python",
   "name": "python3"
  },
  "language_info": {
   "codemirror_mode": {
    "name": "ipython",
    "version": 3
   },
   "file_extension": ".py",
   "mimetype": "text/x-python",
   "name": "python",
   "nbconvert_exporter": "python",
   "pygments_lexer": "ipython3",
   "version": "3.10.8"
  }
 },
 "nbformat": 4,
 "nbformat_minor": 5
}
