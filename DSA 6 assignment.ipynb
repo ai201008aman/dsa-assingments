{
 "cells": [
  {
   "cell_type": "markdown",
   "id": "5db1031d-32ef-46e4-adee-d622a731035a",
   "metadata": {},
   "source": [
    "Question 1:\n",
    "A permutation perm of n + 1 integers of all the integers in the range [0, n] can be represented as a string s of length n where:\n",
    "\n",
    "- s[i] == 'I' if perm[i] < perm[i + 1], and\n",
    "- s[i] == 'D' if perm[i] > perm[i + 1].\n",
    "\n",
    "Given a string s, reconstruct the permutation perm and return it. If there are multiple valid permutations perm, return **any of them**.\n",
    "\n",
    "**Example 1:**\n",
    "\n",
    "**Input:** s = \"IDID\"\n",
    "\n",
    "**Output:**\n",
    "\n",
    "[0,4,1,3,2]"
   ]
  },
  {
   "cell_type": "code",
   "execution_count": null,
   "id": "0f45e942-d6f0-4bfe-aafb-d6b079fc325f",
   "metadata": {},
   "outputs": [],
   "source": [
    "L,ic,dc=[],0,len(s)\n",
    "for i in s:\n",
    "    if i=='I':\n",
    "        L.append(ic)\n",
    "        ic+=1\n",
    "    else:\n",
    "        L.append(dc)\n",
    "        dc-=1\n",
    "if s[-1]=='I':L.append(ic)\n",
    "else:L.append(dc)\n",
    "return L"
   ]
  },
  {
   "cell_type": "markdown",
   "id": "8addaff4-b30a-41cd-8dfd-6c927ed21a18",
   "metadata": {},
   "source": [
    "Question 2:\n",
    "You are given an m x n integer matrix matrix with the following two properties:\n",
    "\n",
    "- Each row is sorted in non-decreasing order.\n",
    "- The first integer of each row is greater than the last integer of the previous row.\n",
    "\n",
    "Given an integer target, return true *if* target *is in* matrix *or* false *otherwise*.\n",
    "\n",
    "You must write a solution in O(log(m * n)) time complexity."
   ]
  },
  {
   "cell_type": "code",
   "execution_count": null,
   "id": "ba688a88-5208-483c-b111-c4d4e511fd97",
   "metadata": {},
   "outputs": [],
   "source": [
    "row,col=len(matrix),len(matrix[0])\n",
    "left,right=0,row*col-1\n",
    "while left<=right:\n",
    "    mid=(left+right)//2\n",
    "    num=matrix[mid//col][mid%col]\n",
    "    if num==target:\n",
    "        return True\n",
    "    if num>target:\n",
    "        right=mid-1\n",
    "    else:\n",
    "        left=mid+1\n",
    "return False"
   ]
  },
  {
   "cell_type": "markdown",
   "id": "10533fed-b181-48ff-89d5-94dff3d59d2a",
   "metadata": {},
   "source": [
    "Question 3:\n",
    "Given an array of integers arr, return *true if and only if it is a valid mountain array*.\n",
    "\n",
    "Recall that arr is a mountain array if and only if:\n",
    "\n",
    "- arr.length >= 3\n",
    "- There exists some i with 0 < i < arr.length - 1 such that:\n",
    "    - arr[0] < arr[1] < ... < arr[i - 1] < arr[i]\n",
    "    - arr[i] > arr[i + 1] > ... > arr[arr.length - 1]"
   ]
  },
  {
   "cell_type": "code",
   "execution_count": null,
   "id": "e399d71e-3331-4004-934a-a1b7ce511d2f",
   "metadata": {},
   "outputs": [],
   "source": [
    "place = arr.index(max(arr))\n",
    "if place == 0 or place == len(arr) - 1:\n",
    "    return False\n",
    "else:\n",
    "    value = True\n",
    "    i = 0\n",
    "    while i < place:\n",
    "        if arr[i] >= arr[i + 1]:\n",
    "            value = False\n",
    "            break\n",
    "        else:\n",
    "            i += 1\n",
    "    i = place + 1\n",
    "    if value:\n",
    "        while i < len(arr):\n",
    "            if arr[i - 1] <= arr[i]:\n",
    "                print(i)\n",
    "                return False\n",
    "            else:\n",
    "                i += 1\n",
    "    else:\n",
    "        return False\n",
    "    return True"
   ]
  },
  {
   "cell_type": "markdown",
   "id": "a4dbad93-215c-4cf1-b0bc-45a47992992b",
   "metadata": {},
   "source": [
    "Question 4:\n",
    "Given a binary array nums, return *the maximum length of a contiguous subarray with an equal number of* 0 *and* 1.\n",
    "\n",
    "**Example 1:**\n",
    "\n",
    "**Input:** nums = [0,1]\n",
    "\n",
    "**Output:** 2\n",
    "\n",
    "**Explanation:**\n",
    "\n",
    "[0, 1] is the longest contiguous subarray with an equal number of 0 and 1."
   ]
  },
  {
   "cell_type": "code",
   "execution_count": null,
   "id": "6ea2f7bf-25ae-42b9-98dc-9736b8002b73",
   "metadata": {},
   "outputs": [],
   "source": [
    "partial_sum = 0\n",
    "table = { 0: -1}\n",
    "max_length = 0\n",
    "for idx, number in enumerate( nums ):\n",
    "    if number:\n",
    "        partial_sum += 1\n",
    "    else:\n",
    "        partial_sum -= 1\n",
    "    if partial_sum in table:    \n",
    "        max_length = max( max_length, ( idx - table[partial_sum] ) )    \n",
    "    else:\n",
    "        table[ partial_sum ] = idx    \n",
    "return max_length"
   ]
  },
  {
   "cell_type": "markdown",
   "id": "861b0336-18cc-4756-a442-b5e4515d0936",
   "metadata": {},
   "source": [
    "Question 5:\n",
    "The **product sum** of two equal-length arrays a and b is equal to the sum of a[i] * b[i] for all 0 <= i < a.length (**0-indexed**).\n",
    "\n",
    "- For example, if a = [1,2,3,4] and b = [5,2,3,1], the **product sum** would be 1*5 + 2*2 + 3*3 + 4*1 = 22.\n",
    "\n",
    "Given two arrays nums1 and nums2 of length n, return *the **minimum product sum** if you are allowed to **rearrange** the **order** of the elements in* nums1.\n",
    "\n",
    "**Example 1:**\n",
    "\n",
    "**Input:** nums1 = [5,3,4,2], nums2 = [4,2,2,5]\n",
    "\n",
    "**Output:** 40\n",
    "\n",
    "**Explanation:**\n",
    "\n",
    "We can rearrange nums1 to become [3,5,4,2]. The product sum of [3,5,4,2] and [4,2,2,5] is 3*4 + 5*2 + 4*2 + 2*5 = 40."
   ]
  },
  {
   "cell_type": "code",
   "execution_count": null,
   "id": "053e9a6f-3441-49b4-8370-733de5bd5153",
   "metadata": {},
   "outputs": [],
   "source": [
    "nums1.sort()\n",
    "nums2.sort()\n",
    "n, res = len(nums1), 0\n",
    "for i in range(n):\n",
    "    res += nums1[i] * nums2[n - i - 1]\n",
    "return res"
   ]
  },
  {
   "cell_type": "markdown",
   "id": "c0dfd6e6-82b3-41ca-9a3b-60efac5ed4d4",
   "metadata": {},
   "source": [
    "Question 6:\n",
    "An integer array original is transformed into a **doubled** array changed by appending **twice the value** of every element in original, and then randomly **shuffling** the resulting array.\n",
    "\n",
    "Given an array changed, return original *if* changed *is a **doubled** array. If* changed *is not a **doubled** array, return an empty array. The elements in* original *may be returned in **any** order*.\n",
    "\n",
    "**Example 1:**\n",
    "\n",
    "**Input:** changed = [1,3,4,2,6,8]\n",
    "\n",
    "**Output:** [1,3,4]\n",
    "\n",
    "**Explanation:** One possible original array could be [1,3,4]:\n",
    "\n",
    "- Twice the value of 1 is 1 * 2 = 2.\n",
    "- Twice the value of 3 is 3 * 2 = 6.\n",
    "- Twice the value of 4 is 4 * 2 = 8.\n",
    "\n",
    "Other original arrays could be [4,3,1] or [3,1,4]."
   ]
  },
  {
   "cell_type": "code",
   "execution_count": null,
   "id": "e1d3e84b-712f-467f-9af2-742c9570b9f8",
   "metadata": {},
   "outputs": [],
   "source": [
    "if len(changed) % 2 == 1:\n",
    "    return []\n",
    "data = Counter(changed)\n",
    "result = []\n",
    "for k in sorted(data):\n",
    "    if data[k] < 0:\n",
    "        return []\n",
    "    value = k * 2\n",
    "    while data[k] > 0:\n",
    "        if data[value] == 0:\n",
    "            return []\n",
    "        result.append(k)\n",
    "        data[k] -= 1\n",
    "        data[value] -= 1\n",
    "return result"
   ]
  },
  {
   "cell_type": "markdown",
   "id": "2373958f-fb1b-412d-9612-416162e47757",
   "metadata": {},
   "source": [
    "Question 7:\n",
    "Given a positive integer n, generate an n x n matrix filled with elements from 1 to n2 in spiral order.\n",
    "\n",
    "**Example 1:** **Input:** n = 3\n",
    "\n",
    "**Output:** [[1,2,3],[8,9,4],[7,6,5]]"
   ]
  },
  {
   "cell_type": "code",
   "execution_count": null,
   "id": "c5a3b887-878e-442c-ab1e-b1a949f849f2",
   "metadata": {},
   "outputs": [],
   "source": [
    "        ans = [[0 for _ in range(n)] for _ in range(n)]\n",
    "        i, r, c = 1, 0, 0\n",
    "\n",
    "        while i <= n**2:\n",
    "            while r < n and ans[c][r] == 0:\n",
    "                ans[c][r] = i\n",
    "                r += 1 if r != n-1 and ans[c][r+1] == 0 else 0\n",
    "                i += 1\n",
    "            c += 1\n",
    "\n",
    "            while c < n and ans[c][r] == 0:\n",
    "                ans[c][r] = i\n",
    "                c += 1 if c != n-1 and ans[c+1][r] == 0 else 0\n",
    "                i += 1\n",
    "            r -= 1\n",
    "\n",
    "            while r >= 0 and ans[c][r] == 0:\n",
    "                ans[c][r] = i\n",
    "                r -= 1 if r != 0 and ans[c][r-1] == 0 else 0\n",
    "                i += 1\n",
    "            c -= 1\n",
    "\n",
    "            while c >= 0 and ans[c][r] == 0:\n",
    "                ans[c][r] = i\n",
    "                c -= 1 if c != 0 and ans[c-1][r] == 0 else 0\n",
    "                i += 1\n",
    "            r += 1\n",
    "\n",
    "        return ans"
   ]
  },
  {
   "cell_type": "markdown",
   "id": "6a21a291-90e9-4824-9068-6fad4527b023",
   "metadata": {},
   "source": [
    "Question 8:\n",
    "Given two [sparse matrices](https://en.wikipedia.org/wiki/Sparse_matrix) mat1 of size m x k and mat2 of size k x n, return the result of mat1 x mat2. You may assume that multiplication is always possible.\n",
    "\n",
    "**Example 1:**\n",
    "**Input:** mat1 = [[1,0,0],[-1,0,3]], mat2 = [[7,0,0],[0,0,0],[0,0,1]]\n",
    "\n",
    "**Output:**\n",
    "\n",
    "[[7,0,0],[-7,0,3]]"
   ]
  },
  {
   "cell_type": "code",
   "execution_count": null,
   "id": "b1c2b8d1-fe77-4b9c-a3bd-7a4f4fed9c55",
   "metadata": {},
   "outputs": [],
   "source": [
    "r1, c1, c2 = len(mat1), len(mat1[0]), len(mat2[0])\n",
    "res = [[0] * c2 for _ in range(r1)]\n",
    "mp = defaultdict(list)\n",
    "for i in range(r1):\n",
    "    for j in range(c1):\n",
    "        if mat1[i][j] != 0:\n",
    "            mp[i].append(j)\n",
    "for i in range(r1):\n",
    "    for j in range(c2):\n",
    "        for k in mp[i]:\n",
    "            res[i][j] += mat1[i][k] * mat2[k][j]\n",
    "return res"
   ]
  }
 ],
 "metadata": {
  "kernelspec": {
   "display_name": "Python 3 (ipykernel)",
   "language": "python",
   "name": "python3"
  },
  "language_info": {
   "codemirror_mode": {
    "name": "ipython",
    "version": 3
   },
   "file_extension": ".py",
   "mimetype": "text/x-python",
   "name": "python",
   "nbconvert_exporter": "python",
   "pygments_lexer": "ipython3",
   "version": "3.10.8"
  }
 },
 "nbformat": 4,
 "nbformat_minor": 5
}
