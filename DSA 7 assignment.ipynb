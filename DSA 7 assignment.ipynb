{
 "cells": [
  {
   "cell_type": "markdown",
   "id": "e2480ce8-a5b9-4b47-9011-8fa03621dd72",
   "metadata": {},
   "source": [
    "Question 1:\n",
    "Given two strings s and t, *determine if they are isomorphic*.\n",
    "\n",
    "Two strings s and t are isomorphic if the characters in s can be replaced to get t.\n",
    "\n",
    "All occurrences of a character must be replaced with another character while preserving the order of characters. No two characters may map to the same character, but a character may map to itself.\n",
    "\n",
    "**Example 1:**\n",
    "\n",
    "**Input:** s = \"egg\", t = \"add\"\n",
    "\n",
    "**Output:** true"
   ]
  },
  {
   "cell_type": "code",
   "execution_count": null,
   "id": "89b90b9a-2193-410f-949f-bb91c89231f6",
   "metadata": {},
   "outputs": [],
   "source": [
    "map1 = []\n",
    "map2 = []\n",
    "for idx in s:\n",
    "    map1.append(s.index(idx))\n",
    "for idx in t:\n",
    "    map2.append(t.index(idx))\n",
    "if map1 == map2:\n",
    "    return True\n",
    "return False"
   ]
  },
  {
   "cell_type": "markdown",
   "id": "c9fac071-4b98-40e5-a8d4-316adbe06fb8",
   "metadata": {},
   "source": [
    "Question 2:\n",
    "Given a string num which represents an integer, return true *if* num *is a **strobogrammatic number***.\n",
    "\n",
    "A **strobogrammatic number** is a number that looks the same when rotated 180 degrees (looked at upside down).\n",
    "\n",
    "**Example 1:**\n",
    "\n",
    "**Input:** num = \"69\"\n",
    "\n",
    "**Output:**\n",
    "\n",
    "true"
   ]
  },
  {
   "cell_type": "code",
   "execution_count": null,
   "id": "5af516ab-86df-4b2e-8492-07e32d9f07ca",
   "metadata": {},
   "outputs": [],
   "source": [
    " def dfs(u):\n",
    "    if u == 0:\n",
    "        return ['']\n",
    "    if u == 1:\n",
    "        return ['0', '1', '8']\n",
    "    ans = []\n",
    "    for v in dfs(u - 2):\n",
    "        for l, r in ('11', '88', '69', '96'):\n",
    "            ans.append(l + v + r)\n",
    "        if u != n:\n",
    "            ans.append('0' + v + '0')\n",
    "    return ans\n",
    "\n",
    "return dfs(n)"
   ]
  },
  {
   "cell_type": "markdown",
   "id": "1efdfca7-a3ce-411b-96f1-5a6bef39815a",
   "metadata": {},
   "source": [
    "Question 3:\n",
    "Given two non-negative integers, num1 and num2 represented as string, return *the sum of* num1 *and* num2 *as a string*.\n",
    "\n",
    "You must solve the problem without using any built-in library for handling large integers (such as BigInteger). You must also not convert the inputs to integers directly.\n",
    "\n",
    "**Example 1:**\n",
    "\n",
    "**Input:** num1 = \"11\", num2 = \"123\"\n",
    "\n",
    "**Output:**\n",
    "\n",
    "\"134\""
   ]
  },
  {
   "cell_type": "code",
   "execution_count": null,
   "id": "64fb8dc5-ce56-4407-9ca0-329ea5810295",
   "metadata": {},
   "outputs": [],
   "source": [
    "sys.set_int_max_str_digits(10000)\n",
    "n=int(num1)\n",
    "n1=int(num2)\n",
    "n2=n+n1\n",
    "return str(n2)"
   ]
  },
  {
   "cell_type": "markdown",
   "id": "899c70d5-b826-4c2e-a236-7b5c57c0bc27",
   "metadata": {},
   "source": [
    "Question 4:\n",
    "Given a string s, reverse the order of characters in each word within a sentence while still preserving whitespace and initial word order.\n",
    "\n",
    "**Example 1:**\n",
    "\n",
    "**Input:** s = \"Let's take LeetCode contest\"\n",
    "\n",
    "**Output:** \"s'teL ekat edoCteeL tsetnoc\""
   ]
  },
  {
   "cell_type": "code",
   "execution_count": null,
   "id": "cb06745a-29fb-46db-969b-1c7cd10539e3",
   "metadata": {},
   "outputs": [],
   "source": [
    "return \" \".join([x[::-1] for x in s.split()])"
   ]
  },
  {
   "cell_type": "markdown",
   "id": "a9439e31-3d14-4af8-bdd2-976df43dcc35",
   "metadata": {},
   "source": [
    "Question 5:\n",
    "Given a string s and an integer k, reverse the first k characters for every 2k characters counting from the start of the string.\n",
    "\n",
    "If there are fewer than k characters left, reverse all of them. If there are less than 2k but greater than or equal to k characters, then reverse the first k characters and leave the other as original.\n",
    "\n",
    "**Example 1:**\n",
    "\n",
    "**Input:** s = \"abcdefg\", k = 2\n",
    "\n",
    "**Output:**\n",
    "\n",
    "\"bacdfeg\""
   ]
  },
  {
   "cell_type": "code",
   "execution_count": null,
   "id": "c15ade0e-bb36-4672-a73f-d923df641e2c",
   "metadata": {},
   "outputs": [],
   "source": [
    "tab=[]\n",
    "for i in range(len(s)):\n",
    "    if (i//k)%2==0:\n",
    "        tab.insert(i-i%k,s[i])\n",
    "    else:\n",
    "        tab.append(s[i])\n",
    "res=\"\"\n",
    "for t in tab:\n",
    "    res+=t\n",
    "return res"
   ]
  },
  {
   "cell_type": "markdown",
   "id": "ee8ddc4d-0a80-437f-947d-2a07ea9b4968",
   "metadata": {},
   "source": [
    "Question 6: Given two strings s and goal, return true *if and only if* s *can become* goal *after some number of **shifts** on* s.\n",
    "\n",
    "A **shift** on s consists of moving the leftmost character of s to the rightmost position.\n",
    "\n",
    "- For example, if s = \"abcde\", then it will be \"bcdea\" after one shift.\n",
    "\n",
    "**Example 1:**\n",
    "\n",
    "**Input:** s = \"abcde\", goal = \"cdeab\"\n",
    "\n",
    "**Output:**\n",
    "\n",
    "true"
   ]
  },
  {
   "cell_type": "code",
   "execution_count": null,
   "id": "ce2f589b-d437-44ff-8b5c-033160015ef8",
   "metadata": {},
   "outputs": [],
   "source": [
    "if s == goal:\n",
    "    return True\n",
    "s, goal = [*s], [*goal] \n",
    "for x in range(len(s)):\n",
    "     a = s[0]\n",
    "    s.pop(0); s.append(a)\n",
    "    if s == goal:\n",
    "        return True\n",
    "return False"
   ]
  },
  {
   "cell_type": "markdown",
   "id": "dc19132c-83da-42a1-a19d-cb8878e9117f",
   "metadata": {},
   "source": [
    "Question 7:\n",
    "Given two strings s and t, return true *if they are equal when both are typed into empty text editors*. '#' means a backspace character.\n",
    "\n",
    "Note that after backspacing an empty text, the text will continue empty.\n",
    "\n",
    "**Example 1:**\n",
    "\n",
    "**Input:** s = \"ab#c\", t = \"ad#c\"\n",
    "\n",
    "**Output:** true\n",
    "\n",
    "**Explanation:**\n",
    "\n",
    "Both s and t become \"ac\"."
   ]
  },
  {
   "cell_type": "code",
   "execution_count": null,
   "id": "de9dfd8f-757a-4c73-badc-42292d1828c0",
   "metadata": {},
   "outputs": [],
   "source": [
    "x=[]\n",
    "y=[]\n",
    "for i in range(len(s)):\n",
    "    if x and s[i]==\"#\":\n",
    "        x.pop()\n",
    "    else:\n",
    "        if s[i]!=\"#\":\n",
    "            x.append(s[i])\n",
    "for i in range(len(t)):\n",
    "    if y and t[i]==\"#\":\n",
    "        y.pop()\n",
    "    else:\n",
    "        if t[i]!=\"#\":\n",
    "            y.append(t[i])\n",
    "if x==y:\n",
    "    return True\n",
    "return False"
   ]
  },
  {
   "cell_type": "markdown",
   "id": "dd593526-0eed-4d68-b95d-02c4935ca9ee",
   "metadata": {},
   "source": [
    "Question 8:\n",
    "You are given an array coordinates, coordinates[i] = [x, y], where [x, y] represents the coordinate of a point. Check if these points make a straight line in the XY plane.\n",
    "\n",
    "**Example 1:****Input:** coordinates = [[1,2],[2,3],[3,4],[4,5],[5,6],[6,7]]\n",
    "\n",
    "**Output:** true"
   ]
  },
  {
   "cell_type": "code",
   "execution_count": null,
   "id": "bf127ff4-99a0-4763-a19e-f78df2a38155",
   "metadata": {},
   "outputs": [],
   "source": [
    "if(coordinates[1][0]-coordinates[0][0]==0):\n",
    "    s=1e9\n",
    "else:\n",
    "    s=(coordinates[1][1]-coordinates[0][1])//(coordinates[1][0]-coordinates[0][0])\n",
    "for i in range(1,len(coordinates)):\n",
    "    slope=1e9\n",
    "    if(coordinates[i][0]-coordinates[i-1][0]!=0):\n",
    "        slope=(coordinates[i][1]-coordinates[i-1][1])//(coordinates[i][0]-coordinates[i-1][0])\n",
    "    if(slope!=s):\n",
    "        return False\n",
    "return True "
   ]
  }
 ],
 "metadata": {
  "kernelspec": {
   "display_name": "Python 3 (ipykernel)",
   "language": "python",
   "name": "python3"
  },
  "language_info": {
   "codemirror_mode": {
    "name": "ipython",
    "version": 3
   },
   "file_extension": ".py",
   "mimetype": "text/x-python",
   "name": "python",
   "nbconvert_exporter": "python",
   "pygments_lexer": "ipython3",
   "version": "3.10.8"
  }
 },
 "nbformat": 4,
 "nbformat_minor": 5
}
